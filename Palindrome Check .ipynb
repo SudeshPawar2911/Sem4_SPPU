{
 "cells": [
  {
   "cell_type": "markdown",
   "metadata": {},
   "source": [
    "# Stack & Queues"
   ]
  },
  {
   "cell_type": "code",
   "execution_count": 1,
   "metadata": {},
   "outputs": [
    {
     "name": "stdout",
     "output_type": "stream",
     "text": [
      "nitin\n",
      "The word, nitin, is a palindrome.\n"
     ]
    }
   ],
   "source": [
    "import sys\n",
    "        \n",
    "class Solution():\n",
    "    def __init__(self):\n",
    "        self.stack = []\n",
    "        self.queue = []\n",
    "    \n",
    "    def pushCharacter(self,a):\n",
    "        self.stack.append(a)\n",
    "\n",
    "    def enqueueCharacter(self,b):\n",
    "        self.queue.append(b)\n",
    "\n",
    "    def popCharacter(self):\n",
    "        return(self.stack.pop())\n",
    "\n",
    "    def dequeueCharacter(self):\n",
    "        return(self.queue.pop(0))\n",
    "\n",
    "\n",
    "# read the string s\n",
    "s=input()\n",
    "#Create the Solution class object\n",
    "obj=Solution()   \n",
    "\n",
    "l=len(s)\n",
    "# push/enqueue all the characters of string s to stack\n",
    "for i in range(l):\n",
    "    obj.pushCharacter(s[i])\n",
    "    obj.enqueueCharacter(s[i])\n",
    "    \n",
    "isPalindrome=True\n",
    "'''\n",
    "pop the top character from stack\n",
    "dequeue the first character from queue\n",
    "compare both the characters\n",
    "''' \n",
    "for i in range(l // 2):\n",
    "    if obj.popCharacter()!=obj.dequeueCharacter():\n",
    "        isPalindrome=False\n",
    "        break\n",
    "#finally print whether string s is palindrome or not.\n",
    "if isPalindrome:\n",
    "    print(\"The word, \"+s+\", is a palindrome.\")\n",
    "else:\n",
    "    print(\"The word, \"+s+\", is not a palindrome.\")    "
   ]
  },
  {
   "cell_type": "markdown",
   "metadata": {},
   "source": [
    "# Palindrome and Anagram"
   ]
  },
  {
   "cell_type": "code",
   "execution_count": 2,
   "metadata": {},
   "outputs": [
    {
     "name": "stdout",
     "output_type": "stream",
     "text": [
      "Enter a string: talat\n",
      "Enter another string: atlta\n",
      "\n",
      "First string is a Palindrome\n",
      "\n",
      "Second string is a Palindrome\n",
      "\n",
      "Both strings are Anagram\n"
     ]
    }
   ],
   "source": [
    "string1 = str(input(\"Enter a string: \"))\n",
    "string2 = str(input(\"Enter another string: \"))\n",
    "\n",
    "condition = 0\n",
    "\n",
    "if string1 == string1[::-1]:\n",
    "    print(\"\\nFirst string is a Palindrome\")\n",
    "    condition = 1\n",
    "    \n",
    "if string2 == string2[::-1]:\n",
    "    print(\"\\nSecond string is a Palindrome\")\n",
    "    condition = 1\n",
    "    \n",
    "if sorted(string1)== sorted(string2):\n",
    "    print(\"\\nBoth strings are Anagram\")\n",
    "    condition = 1\n",
    "    \n",
    "elif condition == 0:\n",
    "    print(\"\\nThe strings are neither Palindrome nor Anagram\")"
   ]
  }
 ],
 "metadata": {
  "kernelspec": {
   "display_name": "Python 3",
   "language": "python",
   "name": "python3"
  },
  "language_info": {
   "codemirror_mode": {
    "name": "ipython",
    "version": 3
   },
   "file_extension": ".py",
   "mimetype": "text/x-python",
   "name": "python",
   "nbconvert_exporter": "python",
   "pygments_lexer": "ipython3",
   "version": "3.7.6"
  },
  "toc": {
   "base_numbering": 1,
   "nav_menu": {},
   "number_sections": true,
   "sideBar": true,
   "skip_h1_title": false,
   "title_cell": "Table of Contents",
   "title_sidebar": "Contents",
   "toc_cell": false,
   "toc_position": {},
   "toc_section_display": true,
   "toc_window_display": false
  }
 },
 "nbformat": 4,
 "nbformat_minor": 4
}
